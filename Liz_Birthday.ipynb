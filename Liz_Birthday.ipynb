{
 "cells": [
  {
   "cell_type": "markdown",
   "id": "c7682ae5",
   "metadata": {},
   "source": [
    "# Liz Birthday"
   ]
  },
  {
   "cell_type": "code",
   "execution_count": 4,
   "id": "60e29747",
   "metadata": {},
   "outputs": [],
   "source": [
    "# Required packages\n",
    "\n",
    "import json\n",
    "import random\n",
    "import requests\n",
    "from IPython.display import Image\n",
    "# from lottienb import *\n",
    "# import streamlit as st\n",
    "# import streamlit_lottie as st_lottie"
   ]
  },
  {
   "cell_type": "markdown",
   "id": "45303996",
   "metadata": {},
   "source": [
    "# Cats"
   ]
  },
  {
   "cell_type": "code",
   "execution_count": 5,
   "id": "93b51d89",
   "metadata": {},
   "outputs": [],
   "source": [
    "# Cats\n",
    "\n",
    "cat_api = \"live_avHGVDMcqdtgn1MlGH97LTsZ9jboFLHKcj3GXTQB4hfdzRPE69VKL5jsbZUV5ymg\"\n",
    "cat_headers = {\n",
    "    \"x-api-key\": cat_api\n",
    "}\n",
    "cat_base = \"https://api.thecatapi.com\""
   ]
  },
  {
   "cell_type": "code",
   "execution_count": 6,
   "id": "d58cdd43",
   "metadata": {},
   "outputs": [
    {
     "name": "stdout",
     "output_type": "stream",
     "text": [
      "67\n"
     ]
    }
   ],
   "source": [
    "cat_breed_url = f\"{cat_base}/v1/breeds\"\n",
    "cat_breeds = requests.get(cat_breed_url, headers = cat_headers)\n",
    "cat_breeds = json.loads(cat_breeds.content)\n",
    "cat_breed_names = [cat['name'] for cat in cat_breeds]\n",
    "cat_breed_ids = [cat['id'] for cat in cat_breeds]\n",
    "cat_dict = dict(zip(cat_breed_names, cat_breed_ids))\n",
    "print(len(cat_breed_ids))"
   ]
  },
  {
   "cell_type": "code",
   "execution_count": 7,
   "id": "8efde471",
   "metadata": {},
   "outputs": [],
   "source": [
    "cat_breed_id = 'beng'\n",
    "cat_limit = 2\n",
    "cat_url = f\"{cat_base}/v1/images/search?limit={cat_limit}&breed_ids={cat_breed_id}&api_key={cat_api}\"\n",
    "cats = requests.get(cat_url, headers = cat_headers)\n",
    "cats = json.loads(cats.content)\n",
    "cat_image_urls = []\n",
    "for cat in cats:\n",
    "    cat_image_url = cat['url']\n",
    "    cat_image_urls.append(cat_image_url)"
   ]
  },
  {
   "cell_type": "code",
   "execution_count": 8,
   "id": "8359d770",
   "metadata": {},
   "outputs": [],
   "source": [
    "cat_api = \"live_avHGVDMcqdtgn1MlGH97LTsZ9jboFLHKcj3GXTQB4hfdzRPE69VKL5jsbZUV5ymg\"\n",
    "cat_headers = {\n",
    "    \"x-api-key\": cat_api\n",
    "}\n",
    "cat_base = \"https://api.thecatapi.com\"\n",
    "cat_breed_id = ''\n",
    "cat_limit = 1\n",
    "cat_url = f\"{cat_base}/v1/images/search?limit={cat_limit}&breed_ids={cat_breed_id}&api_key={cat_api}\"\n",
    "cats = requests.get(cat_url, headers = cat_headers)\n",
    "cats = json.loads(cats.content)\n",
    "if cats[0]['breeds'] != []:\n",
    "    breed = cats[0]['breeds'][0]['name']\n",
    "else:\n",
    "    breed = \"?\"\n",
    "cat_dict = {\n",
    "    \"image\": cats[0]['url'],\n",
    "    \"breed\": breed\n",
    "}"
   ]
  },
  {
   "cell_type": "code",
   "execution_count": 9,
   "id": "1ca173c6",
   "metadata": {},
   "outputs": [
    {
     "data": {
      "text/plain": [
       "[{'breeds': [],\n",
       "  'id': 'd2h',\n",
       "  'url': 'https://cdn2.thecatapi.com/images/d2h.jpg',\n",
       "  'width': 4672,\n",
       "  'height': 3104}]"
      ]
     },
     "execution_count": 9,
     "metadata": {},
     "output_type": "execute_result"
    }
   ],
   "source": [
    "cats"
   ]
  },
  {
   "cell_type": "code",
   "execution_count": 10,
   "id": "711f1d2c",
   "metadata": {},
   "outputs": [
    {
     "data": {
      "text/plain": [
       "[{'breeds': [],\n",
       "  'id': 'Sk-dcXjN7',\n",
       "  'url': 'https://cdn2.thedogapi.com/images/Sk-dcXjN7.gif',\n",
       "  'width': 500,\n",
       "  'height': 267}]"
      ]
     },
     "execution_count": 10,
     "metadata": {},
     "output_type": "execute_result"
    }
   ],
   "source": [
    "dog_api = \"live_vjor7WxklBzIDv5X6aBDzEdZ9ceu4Fmjint1lC8ztx3pjCnUC9aQqDu5WTkI12CB\"\n",
    "dog_headers = {\n",
    "    \"x-api-key\": dog_api\n",
    "}\n",
    "dog_base = \"https://api.thedogapi.com\"\n",
    "dog_breed_id = \"\"\n",
    "dog_limit = 1\n",
    "dog_url = f\"{dog_base}/v1/images/search?limit={dog_limit}&breed_ids={dog_breed_id}&api_key={dog_api}\"\n",
    "dogs = requests.get(dog_url, headers = dog_headers)\n",
    "dogs = json.loads(dogs.content)\n",
    "dogs"
   ]
  },
  {
   "cell_type": "code",
   "execution_count": 11,
   "id": "afa9e446",
   "metadata": {},
   "outputs": [
    {
     "data": {
      "text/html": [
       "<img src=\"https://cdn2.thecatapi.com/images/IFXsxmXLm.jpg\"/>"
      ],
      "text/plain": [
       "<IPython.core.display.Image object>"
      ]
     },
     "execution_count": 11,
     "metadata": {},
     "output_type": "execute_result"
    }
   ],
   "source": [
    "Image(url=cat_image_urls[0])"
   ]
  },
  {
   "cell_type": "markdown",
   "id": "be0f3e0b",
   "metadata": {},
   "source": [
    "# Dogs"
   ]
  },
  {
   "cell_type": "code",
   "execution_count": 12,
   "id": "e4eb4488",
   "metadata": {},
   "outputs": [],
   "source": [
    "# Dogs\n",
    "\n",
    "dog_api = \"live_vjor7WxklBzIDv5X6aBDzEdZ9ceu4Fmjint1lC8ztx3pjCnUC9aQqDu5WTkI12CB\"\n",
    "dog_headers = {\n",
    "    \"x-api-key\": dog_api\n",
    "}\n",
    "dog_base = \"https://api.thedogapi.com\""
   ]
  },
  {
   "cell_type": "code",
   "execution_count": 13,
   "id": "73a2ada3",
   "metadata": {},
   "outputs": [
    {
     "name": "stdout",
     "output_type": "stream",
     "text": [
      "172\n"
     ]
    }
   ],
   "source": [
    "dog_breed_url = f\"{dog_base}/v1/breeds\"\n",
    "dog_breeds = requests.get(dog_breed_url, headers = dog_headers)\n",
    "dog_breeds = json.loads(dog_breeds.content)\n",
    "dog_breed_names = [dog['name'] for dog in dog_breeds]\n",
    "dog_breed_ids = [dog['id'] for dog in dog_breeds]\n",
    "dog_dict = dict(zip(dog_breed_names, dog_breed_ids))\n",
    "print(len(dog_breed_ids))"
   ]
  },
  {
   "cell_type": "code",
   "execution_count": 14,
   "id": "9aea365e",
   "metadata": {},
   "outputs": [],
   "source": [
    "dog_breed_id = 7\n",
    "dog_limit = 2\n",
    "dog_url = f\"{dog_base}/v1/images/search?limit={dog_limit}&breed_ids={dog_breed_id}&api_key={dog_api}\"\n",
    "dogs = requests.get(dog_url, headers = dog_headers)\n",
    "dogs = json.loads(dogs.content)\n",
    "dog_image_urls = []\n",
    "for dog in dogs:\n",
    "    dog_image_url = dog['url']\n",
    "    dog_image_urls.append(dog_image_url)"
   ]
  },
  {
   "cell_type": "code",
   "execution_count": 15,
   "id": "c0fe4b4e",
   "metadata": {},
   "outputs": [
    {
     "data": {
      "text/html": [
       "<img src=\"https://cdn2.thedogapi.com/images/33mJ-V3RX.jpg\"/>"
      ],
      "text/plain": [
       "<IPython.core.display.Image object>"
      ]
     },
     "execution_count": 15,
     "metadata": {},
     "output_type": "execute_result"
    }
   ],
   "source": [
    "Image(url=dog_image_urls[0])"
   ]
  },
  {
   "cell_type": "markdown",
   "id": "e1a13a94",
   "metadata": {},
   "source": [
    "# Memes"
   ]
  },
  {
   "cell_type": "code",
   "execution_count": 16,
   "id": "9bc9a12e",
   "metadata": {},
   "outputs": [],
   "source": [
    "# Memes\n",
    "\n",
    "meme_base = \"https://meme-api.herokuapp.com\"\n",
    "subreddit = \"wholesomememes\" # Default = 'memes', 'dankmemes', 'me_irl'\n",
    "count = 2 # max = 50\n",
    "meme_url = f\"{meme_base}/gimme/{subreddit}/{count}\""
   ]
  },
  {
   "cell_type": "code",
   "execution_count": null,
   "id": "02d7cd9d",
   "metadata": {},
   "outputs": [],
   "source": []
  },
  {
   "cell_type": "code",
   "execution_count": 17,
   "id": "79696bd3",
   "metadata": {},
   "outputs": [
    {
     "ename": "JSONDecodeError",
     "evalue": "Expecting value: line 1 column 1 (char 0)",
     "output_type": "error",
     "traceback": [
      "\u001b[1;31m---------------------------------------------------------------------------\u001b[0m",
      "\u001b[1;31mJSONDecodeError\u001b[0m                           Traceback (most recent call last)",
      "\u001b[1;32m~\\AppData\\Local\\Temp\\ipykernel_9824\\816960286.py\u001b[0m in \u001b[0;36m<module>\u001b[1;34m\u001b[0m\n\u001b[0;32m      1\u001b[0m \u001b[0mmemes\u001b[0m \u001b[1;33m=\u001b[0m \u001b[0mrequests\u001b[0m\u001b[1;33m.\u001b[0m\u001b[0mget\u001b[0m\u001b[1;33m(\u001b[0m\u001b[0mmeme_url\u001b[0m\u001b[1;33m)\u001b[0m\u001b[1;33m\u001b[0m\u001b[1;33m\u001b[0m\u001b[0m\n\u001b[1;32m----> 2\u001b[1;33m \u001b[0mmemes\u001b[0m \u001b[1;33m=\u001b[0m \u001b[0mjson\u001b[0m\u001b[1;33m.\u001b[0m\u001b[0mloads\u001b[0m\u001b[1;33m(\u001b[0m\u001b[0mmemes\u001b[0m\u001b[1;33m.\u001b[0m\u001b[0mcontent\u001b[0m\u001b[1;33m)\u001b[0m\u001b[1;33m[\u001b[0m\u001b[1;34m'memes'\u001b[0m\u001b[1;33m]\u001b[0m\u001b[1;33m\u001b[0m\u001b[1;33m\u001b[0m\u001b[0m\n\u001b[0m",
      "\u001b[1;32m~\\anaconda3\\lib\\json\\__init__.py\u001b[0m in \u001b[0;36mloads\u001b[1;34m(s, cls, object_hook, parse_float, parse_int, parse_constant, object_pairs_hook, **kw)\u001b[0m\n\u001b[0;32m    344\u001b[0m             \u001b[0mparse_int\u001b[0m \u001b[1;32mis\u001b[0m \u001b[1;32mNone\u001b[0m \u001b[1;32mand\u001b[0m \u001b[0mparse_float\u001b[0m \u001b[1;32mis\u001b[0m \u001b[1;32mNone\u001b[0m \u001b[1;32mand\u001b[0m\u001b[1;33m\u001b[0m\u001b[1;33m\u001b[0m\u001b[0m\n\u001b[0;32m    345\u001b[0m             parse_constant is None and object_pairs_hook is None and not kw):\n\u001b[1;32m--> 346\u001b[1;33m         \u001b[1;32mreturn\u001b[0m \u001b[0m_default_decoder\u001b[0m\u001b[1;33m.\u001b[0m\u001b[0mdecode\u001b[0m\u001b[1;33m(\u001b[0m\u001b[0ms\u001b[0m\u001b[1;33m)\u001b[0m\u001b[1;33m\u001b[0m\u001b[1;33m\u001b[0m\u001b[0m\n\u001b[0m\u001b[0;32m    347\u001b[0m     \u001b[1;32mif\u001b[0m \u001b[0mcls\u001b[0m \u001b[1;32mis\u001b[0m \u001b[1;32mNone\u001b[0m\u001b[1;33m:\u001b[0m\u001b[1;33m\u001b[0m\u001b[1;33m\u001b[0m\u001b[0m\n\u001b[0;32m    348\u001b[0m         \u001b[0mcls\u001b[0m \u001b[1;33m=\u001b[0m \u001b[0mJSONDecoder\u001b[0m\u001b[1;33m\u001b[0m\u001b[1;33m\u001b[0m\u001b[0m\n",
      "\u001b[1;32m~\\anaconda3\\lib\\json\\decoder.py\u001b[0m in \u001b[0;36mdecode\u001b[1;34m(self, s, _w)\u001b[0m\n\u001b[0;32m    335\u001b[0m \u001b[1;33m\u001b[0m\u001b[0m\n\u001b[0;32m    336\u001b[0m         \"\"\"\n\u001b[1;32m--> 337\u001b[1;33m         \u001b[0mobj\u001b[0m\u001b[1;33m,\u001b[0m \u001b[0mend\u001b[0m \u001b[1;33m=\u001b[0m \u001b[0mself\u001b[0m\u001b[1;33m.\u001b[0m\u001b[0mraw_decode\u001b[0m\u001b[1;33m(\u001b[0m\u001b[0ms\u001b[0m\u001b[1;33m,\u001b[0m \u001b[0midx\u001b[0m\u001b[1;33m=\u001b[0m\u001b[0m_w\u001b[0m\u001b[1;33m(\u001b[0m\u001b[0ms\u001b[0m\u001b[1;33m,\u001b[0m \u001b[1;36m0\u001b[0m\u001b[1;33m)\u001b[0m\u001b[1;33m.\u001b[0m\u001b[0mend\u001b[0m\u001b[1;33m(\u001b[0m\u001b[1;33m)\u001b[0m\u001b[1;33m)\u001b[0m\u001b[1;33m\u001b[0m\u001b[1;33m\u001b[0m\u001b[0m\n\u001b[0m\u001b[0;32m    338\u001b[0m         \u001b[0mend\u001b[0m \u001b[1;33m=\u001b[0m \u001b[0m_w\u001b[0m\u001b[1;33m(\u001b[0m\u001b[0ms\u001b[0m\u001b[1;33m,\u001b[0m \u001b[0mend\u001b[0m\u001b[1;33m)\u001b[0m\u001b[1;33m.\u001b[0m\u001b[0mend\u001b[0m\u001b[1;33m(\u001b[0m\u001b[1;33m)\u001b[0m\u001b[1;33m\u001b[0m\u001b[1;33m\u001b[0m\u001b[0m\n\u001b[0;32m    339\u001b[0m         \u001b[1;32mif\u001b[0m \u001b[0mend\u001b[0m \u001b[1;33m!=\u001b[0m \u001b[0mlen\u001b[0m\u001b[1;33m(\u001b[0m\u001b[0ms\u001b[0m\u001b[1;33m)\u001b[0m\u001b[1;33m:\u001b[0m\u001b[1;33m\u001b[0m\u001b[1;33m\u001b[0m\u001b[0m\n",
      "\u001b[1;32m~\\anaconda3\\lib\\json\\decoder.py\u001b[0m in \u001b[0;36mraw_decode\u001b[1;34m(self, s, idx)\u001b[0m\n\u001b[0;32m    353\u001b[0m             \u001b[0mobj\u001b[0m\u001b[1;33m,\u001b[0m \u001b[0mend\u001b[0m \u001b[1;33m=\u001b[0m \u001b[0mself\u001b[0m\u001b[1;33m.\u001b[0m\u001b[0mscan_once\u001b[0m\u001b[1;33m(\u001b[0m\u001b[0ms\u001b[0m\u001b[1;33m,\u001b[0m \u001b[0midx\u001b[0m\u001b[1;33m)\u001b[0m\u001b[1;33m\u001b[0m\u001b[1;33m\u001b[0m\u001b[0m\n\u001b[0;32m    354\u001b[0m         \u001b[1;32mexcept\u001b[0m \u001b[0mStopIteration\u001b[0m \u001b[1;32mas\u001b[0m \u001b[0merr\u001b[0m\u001b[1;33m:\u001b[0m\u001b[1;33m\u001b[0m\u001b[1;33m\u001b[0m\u001b[0m\n\u001b[1;32m--> 355\u001b[1;33m             \u001b[1;32mraise\u001b[0m \u001b[0mJSONDecodeError\u001b[0m\u001b[1;33m(\u001b[0m\u001b[1;34m\"Expecting value\"\u001b[0m\u001b[1;33m,\u001b[0m \u001b[0ms\u001b[0m\u001b[1;33m,\u001b[0m \u001b[0merr\u001b[0m\u001b[1;33m.\u001b[0m\u001b[0mvalue\u001b[0m\u001b[1;33m)\u001b[0m \u001b[1;32mfrom\u001b[0m \u001b[1;32mNone\u001b[0m\u001b[1;33m\u001b[0m\u001b[1;33m\u001b[0m\u001b[0m\n\u001b[0m\u001b[0;32m    356\u001b[0m         \u001b[1;32mreturn\u001b[0m \u001b[0mobj\u001b[0m\u001b[1;33m,\u001b[0m \u001b[0mend\u001b[0m\u001b[1;33m\u001b[0m\u001b[1;33m\u001b[0m\u001b[0m\n",
      "\u001b[1;31mJSONDecodeError\u001b[0m: Expecting value: line 1 column 1 (char 0)"
     ]
    }
   ],
   "source": [
    "memes = requests.get(meme_url)\n",
    "memes = json.loads(memes.content)['memes']"
   ]
  },
  {
   "cell_type": "code",
   "execution_count": 18,
   "id": "4a9b0be9",
   "metadata": {},
   "outputs": [
    {
     "ename": "TypeError",
     "evalue": "'Response' object is not subscriptable",
     "output_type": "error",
     "traceback": [
      "\u001b[1;31m---------------------------------------------------------------------------\u001b[0m",
      "\u001b[1;31mTypeError\u001b[0m                                 Traceback (most recent call last)",
      "\u001b[1;32m~\\AppData\\Local\\Temp\\ipykernel_9824\\2674868783.py\u001b[0m in \u001b[0;36m<module>\u001b[1;34m\u001b[0m\n\u001b[1;32m----> 1\u001b[1;33m \u001b[0mmemes\u001b[0m\u001b[1;33m[\u001b[0m\u001b[1;36m0\u001b[0m\u001b[1;33m]\u001b[0m\u001b[1;33m\u001b[0m\u001b[1;33m\u001b[0m\u001b[0m\n\u001b[0m",
      "\u001b[1;31mTypeError\u001b[0m: 'Response' object is not subscriptable"
     ]
    }
   ],
   "source": [
    "memes[0]"
   ]
  },
  {
   "cell_type": "code",
   "execution_count": 84,
   "id": "a7514825",
   "metadata": {},
   "outputs": [
    {
     "data": {
      "text/html": [
       "<img src=\"https://i.redd.it/skz5bhgpglq91.jpg\"/>"
      ],
      "text/plain": [
       "<IPython.core.display.Image object>"
      ]
     },
     "execution_count": 84,
     "metadata": {},
     "output_type": "execute_result"
    }
   ],
   "source": [
    "meme_urls = [meme['url'] for meme in memes]\n",
    "Image(url=meme_urls[0])"
   ]
  },
  {
   "cell_type": "markdown",
   "id": "99b10b3f",
   "metadata": {},
   "source": [
    "# Twitch"
   ]
  },
  {
   "cell_type": "code",
   "execution_count": 200,
   "id": "c1192428",
   "metadata": {},
   "outputs": [
    {
     "data": {
      "text/plain": [
       "{'id': 7866,\n",
       " 'game': 18880,\n",
       " 'name': 'Trailer',\n",
       " 'video_id': 'qmtaQqgHfuo',\n",
       " 'checksum': 'ec60aacc-07ab-428c-4404-1817df5ee847'}"
      ]
     },
     "execution_count": 200,
     "metadata": {},
     "output_type": "execute_result"
    }
   ],
   "source": [
    "resp2[idx]"
   ]
  },
  {
   "cell_type": "code",
   "execution_count": 217,
   "id": "89f817ef",
   "metadata": {},
   "outputs": [
    {
     "name": "stdout",
     "output_type": "stream",
     "text": [
      "LoveR\n",
      "Romance... Record.\n",
      "A new love is starting.\n",
      "Summer in senior high school.\n",
      "An encounter with 6 girls... and love happens.\n",
      "https://www.youtube.com/watch?v=jPSi-gGeGGY\n"
     ]
    },
    {
     "data": {
      "text/html": [
       "<img src=\"//images.igdb.com/igdb/image/upload/t_thumb/caai2gvj3qwsar3znsua.jpg\"/>"
      ],
      "text/plain": [
       "<IPython.core.display.Image object>"
      ]
     },
     "execution_count": 217,
     "metadata": {},
     "output_type": "execute_result"
    }
   ],
   "source": [
    "twitch_api = \"zqvkd3br6bi91muh5zmohkeom04175\"\n",
    "twitch_secret = \"1dbgcndsadqy63uzg1lqm98jqreslx\"\n",
    "twitch_base = \"https://id.twitch.tv\"\n",
    "url1 = f\"{twitch_base}/oauth2/token\"\n",
    "params = {\n",
    "    \"client_id\": twitch_api,\n",
    "    \"client_secret\": twitch_secret,\n",
    "    \"grant_type\": \"client_credentials\"\n",
    "}\n",
    "r1 = requests.post(url1, params = params)\n",
    "resp1 = json.loads(r1.content)\n",
    "access_token = resp1[\"access_token\"]\n",
    "headers = {\n",
    "    \"Client-ID\": twitch_api,\n",
    "    \"Authorization\": f\"Bearer {access_token}\",\n",
    "    \"Accept\": \"application/json\"\n",
    "}\n",
    "igdb_base = \"https://api.igdb.com\"\n",
    "url2 = f\"{igdb_base}/v4/game_videos\"\n",
    "data2 = f'fields *; sort rating desc; limit 500;'\n",
    "r2 = requests.post(url2, headers = headers, data = data2)\n",
    "resp2 = json.loads(r2.content)\n",
    "idx = random.randint(0, len(resp2)-1)\n",
    "youtube = f\"https://www.youtube.com/watch?v={resp2[idx]['video_id']}\"\n",
    "game_id = resp2[idx]['game']\n",
    "url3 = f\"{igdb_base}/v4/games\"\n",
    "data3 = f'fields *; where id = {game_id};'\n",
    "r3 = requests.post(url3, headers = headers, data = data3)\n",
    "resp3 = json.loads(r3.content)[0]\n",
    "missing = \"cover\" not in resp3 or \"name\" not in resp3 or \"summary\" not in resp3\n",
    "if missing:\n",
    "    print(resp3)\n",
    "    while missing:\n",
    "        idx = random.randint(0, len(resp3)-1)\n",
    "        missing = \"cover\" not in resp3 or \"name\" not in resp3 or \"summary\" not in resp3\n",
    "cover_id = resp3['cover']\n",
    "url4 = f\"{igdb_base}/v4/covers\"\n",
    "data4 = f'fields *; where id = {cover_id};'\n",
    "r4 = requests.post(url4, headers = headers, data = data4)\n",
    "resp4 = json.loads(r4.content)[0]\n",
    "print(resp3[\"name\"])\n",
    "print(resp3[\"summary\"])\n",
    "print(youtube)\n",
    "Image(url=resp4['url'])"
   ]
  },
  {
   "cell_type": "code",
   "execution_count": 202,
   "id": "bd282bd4",
   "metadata": {},
   "outputs": [
    {
     "name": "stdout",
     "output_type": "stream",
     "text": [
      "https://www.youtube.com/watch?v=WX50ZAjlskU\n"
     ]
    },
    {
     "data": {
      "text/html": [
       "<img src=\"//images.igdb.com/igdb/image/upload/t_thumb/co2a1v.jpg\"/>"
      ],
      "text/plain": [
       "<IPython.core.display.Image object>"
      ]
     },
     "execution_count": 202,
     "metadata": {},
     "output_type": "execute_result"
    }
   ],
   "source": [
    "url3 = f\"{igdb_base}/v4/game_videos\"\n",
    "data3 = f'fields *; sort rating desc; limit 500;'\n",
    "r3 = requests.post(url3, headers = headers, data = data3)\n",
    "resp3 = json.loads(r3.content)\n",
    "idx = random.randint(0, len(resp3)-1)\n",
    "youtube = f\"https://www.youtube.com/watch?v={resp3[idx]['video_id']}\"\n",
    "print(youtube)\n",
    "id_ = resp3[idx]['game']\n",
    "data1 = f'fields *; sort rating desc; limit 500; where game = {id_};'\n",
    "r1 = requests.post(igdb_url, headers = headers, data = data1)\n",
    "resp1 = json.loads(r1.content)\n",
    "Image(url=resp1[0]['url'])"
   ]
  },
  {
   "cell_type": "code",
   "execution_count": 19,
   "id": "603b4794",
   "metadata": {},
   "outputs": [],
   "source": [
    "from twitchAPI.twitch import Twitch\n",
    "twitch = Twitch(twitch_api, twitch_secret)\n",
    "# igdb_url = f\"{igdb_base}/v4/character_mug_shots\"\n",
    "# igdb_url = f\"{igdb_base}/v4/artworks\"\n",
    "# igdb_url = f\"{igdb_base}/v4/company_logos\"\n",
    "# igdb_url = f\"{igdb_base}/v4/game_engine_logos\""
   ]
  },
  {
   "cell_type": "markdown",
   "id": "c7404a0e",
   "metadata": {},
   "source": [
    "# Bible"
   ]
  },
  {
   "cell_type": "code",
   "execution_count": 281,
   "id": "0423fa38",
   "metadata": {},
   "outputs": [
    {
     "name": "stdout",
     "output_type": "stream",
     "text": [
      "Proverbs+17:20\n"
     ]
    }
   ],
   "source": [
    "field = \"html\"\n",
    "esv_api = \"f34d73c90921c9e47d306b3429c2caa3b38082c2\"\n",
    "esv_base = \"https://api.esv.org\"\n",
    "CHAPTER_LENGTHS = [\n",
    "    33, 22, 35, 27, 23, 35, 27, 36, 18, 32,\n",
    "    31, 28, 25, 35, 33, 33, 28, 24, 29, 30,\n",
    "    31, 29, 35, 34, 28, 28, 27, 28, 27, 33,\n",
    "    31\n",
    "]\n",
    "chapter = random.randrange(1, len(CHAPTER_LENGTHS))\n",
    "verse = random.randint(1, CHAPTER_LENGTHS[chapter])\n",
    "book = \"Proverbs\"\n",
    "lookup = f\"{book}+{chapter}:{verse}\"\n",
    "print(lookup)\n",
    "esv_verse = f\"{esv_base}/v3/passage/{field}/?q={lookup}\"\n",
    "headers = {\n",
    "    \"Authorization\": f\"Token {esv_api}\"\n",
    "}\n",
    "r = requests.get(esv_verse, headers = headers)\n",
    "# resp = json.loads(r.content)\n",
    "# passage = resp['passages'][0]\n",
    "# passage"
   ]
  },
  {
   "cell_type": "code",
   "execution_count": 272,
   "id": "06a85eb4",
   "metadata": {},
   "outputs": [
    {
     "data": {
      "text/plain": [
       "'16 迷 离 通 达 道 路 的 ， 必 住 在 阴 魂 的 会 中 。'"
      ]
     },
     "execution_count": 272,
     "metadata": {},
     "output_type": "execute_result"
    }
   ],
   "source": [
    "version = \"CUVS\"\n",
    "url = f\"https://www.biblegateway.com/passage/?search={book}+{chapter}%3A{verse}&version={version}\"\n",
    "r = requests.get(url)\n",
    "soup = BeautifulSoup(r.content, \"html.parser\")\n",
    "v = soup.find(\"span\", {\"class\": f\"Prov-{chapter}-{verse}\"}).text.replace(\"\\xa0\", \" \")\n",
    "v = f\"{v} {version}\""
   ]
  },
  {
   "cell_type": "code",
   "execution_count": 286,
   "id": "4dd8a1c2",
   "metadata": {},
   "outputs": [
    {
     "data": {
      "text/plain": [
       "'<h2 class=\"extra_text\">Proverbs 17:20 <small class=\"audio extra_text\">(<a class=\"mp3link\" href=\"https://audio.esv.org/david-cochran-heath/mq/20017020-20017020.mp3\" title=\"Proverbs 17:20\" type=\"audio/mpeg\">Listen</a>)</small></h2>\\n<p class=\"block-indent\"><span class=\"begin-line-group\"></span>\\n<span id=\"p20017020_01-1\" class=\"line\"><b class=\"verse-num inline\" id=\"v20017020-1\">20&nbsp;</b>&nbsp;&nbsp;A man of crooked heart does not discover good,</span><br /><span id=\"p20017020_01-1\" class=\"indent line\">&nbsp;&nbsp;&nbsp;&nbsp;and one with a dishonest tongue falls into calamity.</span><br /></p><span class=\"end-line-group\"></span>\\n<p>(<a href=\"http://www.esv.org\" class=\"copyright\">ESV</a>)</p>'"
      ]
     },
     "execution_count": 286,
     "metadata": {},
     "output_type": "execute_result"
    }
   ],
   "source": [
    "json.loads(r.content)['passages'][0]"
   ]
  },
  {
   "cell_type": "markdown",
   "id": "a7ff550d",
   "metadata": {},
   "source": [
    "# Lottie"
   ]
  },
  {
   "cell_type": "code",
   "execution_count": 88,
   "id": "5aa9b4cd",
   "metadata": {},
   "outputs": [],
   "source": [
    "# Lottie\n",
    "\n",
    "def load_lottiefile(filepath: str):\n",
    "    with open(filepath, \"r\") as f:\n",
    "        return json.load(f)\n",
    "\n",
    "def load_lottieurl(url: str):\n",
    "    r = requests.get(url)\n",
    "    if r.status_code != 200:\n",
    "        return None\n",
    "    return r.json()"
   ]
  },
  {
   "cell_type": "code",
   "execution_count": 95,
   "id": "414c7320",
   "metadata": {},
   "outputs": [
    {
     "data": {
      "text/html": [
       "<script src=\"https://unpkg.com/@lottiefiles/lottie-player@latest/dist/lottie-player.js\"></script>"
      ],
      "text/plain": [
       "<IPython.core.display.HTML object>"
      ]
     },
     "metadata": {},
     "output_type": "display_data"
    },
    {
     "data": {
      "text/html": [
       "<lottie-player src=\"https://assets3.lottiefiles.com/packages/lf20_arq6m8vt.json\" background=\"transparent\" speed=\"1\" style=\"width: 300px; height: 300px;\" loop controls autoplay></lottie-player>"
      ],
      "text/plain": [
       "<IPython.core.display.HTML object>"
      ]
     },
     "metadata": {},
     "output_type": "display_data"
    }
   ],
   "source": [
    "lottie_url = \"https://assets1.lottiefiles.com/packages/lf20_z9ed2jna.json\"\n",
    "render_url(\"https://assets3.lottiefiles.com/packages/lf20_arq6m8vt.json\")"
   ]
  }
 ],
 "metadata": {
  "kernelspec": {
   "display_name": "Python 3 (ipykernel)",
   "language": "python",
   "name": "python3"
  },
  "language_info": {
   "codemirror_mode": {
    "name": "ipython",
    "version": 3
   },
   "file_extension": ".py",
   "mimetype": "text/x-python",
   "name": "python",
   "nbconvert_exporter": "python",
   "pygments_lexer": "ipython3",
   "version": "3.9.13"
  }
 },
 "nbformat": 4,
 "nbformat_minor": 5
}
